{
 "cells": [
  {
   "cell_type": "code",
   "execution_count": null,
   "metadata": {},
   "outputs": [],
   "source": [
    "# Import Dependencies\n",
    "import os\n",
    "import pandas as pd\n",
    "from bs4 import BeautifulSoup as bs\n",
    "from splinter import Browser\n",
    "from selenium import webdriver\n",
    "import selenium.webdriver.chrome.service as service\n",
    "import requests\n",
    "import time"
   ]
  },
  {
   "cell_type": "code",
   "execution_count": null,
   "metadata": {},
   "outputs": [],
   "source": [
    "executable_path = {'executable_path': 'chromedriver.exe'}\n",
    "browser = Browser('chrome', **executable_path, headless=False)\n",
    "\n",
    "#executable_path = {'executable_path': 'C:/Users/diamo/AppData/Local/pip/Cache/wheels/03/77/8b/811d5fc1d4a81d7aee893ce5cc585ec96f08955f049e523b32'}\n",
    "#browser = Browser('chrome', **executable_path, headless= False)\n",
    "\n"
   ]
  },
  {
   "cell_type": "markdown",
   "metadata": {},
   "source": [
    "Mars News"
   ]
  },
  {
   "cell_type": "code",
   "execution_count": null,
   "metadata": {},
   "outputs": [],
   "source": [
    "# Use requests and BeautifulSoup to scrape Nasa News for latest news\n",
    "url = 'https://mars.nasa.gov/news/?page=0&per_page=40&order=publish_date+desc%2Ccreated_at+desc&search=mars&category=19%2C165%2C184%2C204&blank_scope=Latest'\n",
    "response = requests.get(url)\n",
    "soup = bs(response.text, 'lxml')"
   ]
  },
  {
   "cell_type": "code",
   "execution_count": null,
   "metadata": {},
   "outputs": [],
   "source": [
    "results = soup.find('div', class_='features')"
   ]
  },
  {
   "cell_type": "code",
   "execution_count": null,
   "metadata": {},
   "outputs": [],
   "source": [
    "#print news results\n",
    "\n",
    "news_title = results.find('div', class_='content_title').text\n",
    "newsp = results.find('div', class_='rollover_description').text\n",
    "print(news_title)\n",
    "print(newsp)"
   ]
  },
  {
   "cell_type": "markdown",
   "metadata": {},
   "source": [
    "Mars Images"
   ]
  },
  {
   "cell_type": "code",
   "execution_count": null,
   "metadata": {},
   "outputs": [],
   "source": [
    "#Enter mars images\n",
    "url = \"https://jpl.nasa.gov/spaceimages/?search=&category=Mars\"\n",
    "browser.visit(url)"
   ]
  },
  {
   "cell_type": "code",
   "execution_count": null,
   "metadata": {},
   "outputs": [],
   "source": [
    "#featured = mars_soup.find('div', class_='default floating_text_area ms-layer')\n",
    "#featured_image = featured.find('footer')\n",
    "#featured_image_url = 'https://www.jpl.nasa.gov'+ featured_image.find('a')['data-fancybox-href']\n",
    "#print(str(featured_image_url))\n",
    "\n",
    "#Code for moving through pages on site\n",
    "time.sleep(5)\n",
    "browser.click_link_by_partial_text('FULL IMAGE')\n",
    "time.sleep(5)\n",
    "browser.click_link_by_partial_text('more info')\n",
    "time.sleep(5)\n",
    "\n",
    "#Pull html text\n",
    "response = browser.html\n",
    "\n",
    "#Create BeautifulSoup object; parse with 'html.parser'\n",
    "soup = BeautifulSoup(response, 'html.parser')\n",
    "\n",
    "#Retrieve featured image\n",
    "image_href = soup.find('figure', 'lede').a['href']\n",
    "link = 'https://www.jpl.nasa.gov'\n",
    "featured_image_url = link + image_href\n",
    "\n",
    "#Display\n",
    "print(featured_image_url)"
   ]
  },
  {
   "cell_type": "markdown",
   "metadata": {},
   "source": [
    "Mars Weather Report"
   ]
  },
  {
   "cell_type": "code",
   "execution_count": null,
   "metadata": {},
   "outputs": [],
   "source": [
    "\n",
    "#Get latest tweet for weather report\n",
    "twitter_url = 'https://twitter.com/marswxreport?lang=en'\n",
    "twitter_response = requests.get(twitter_url)\n",
    "twitter_soup = bs(twitter_response.text, 'lxml')\n",
    "twitter_result = twitter_soup.find('div', class_='js-tweet-text-container')\n",
    "\n",
    "#Retrieve latest tweet\n",
    "mars_weather = twitter_result.find('p', class_='js-tweet-text').text\n",
    "mars_weather\n",
    "\n",
    "#Display tweet\n",
    "print(mars_weather)"
   ]
  },
  {
   "cell_type": "markdown",
   "metadata": {},
   "source": [
    "Mars Facts"
   ]
  },
  {
   "cell_type": "code",
   "execution_count": null,
   "metadata": {},
   "outputs": [],
   "source": [
    "#Scrape Mars facts using PD fx\n",
    "mars_facts_url = 'https://space-facts.com/mars/'\n",
    "tables = pd.read_html(mars_facts_url)\n",
    "tables"
   ]
  }
 ],
 "metadata": {
  "kernelspec": {
   "display_name": "Python 3",
   "language": "python",
   "name": "python3"
  },
  "language_info": {
   "codemirror_mode": {
    "name": "ipython",
    "version": 3
   },
   "file_extension": ".py",
   "mimetype": "text/x-python",
   "name": "python",
   "nbconvert_exporter": "python",
   "pygments_lexer": "ipython3",
   "version": "3.6.5"
  }
 },
 "nbformat": 4,
 "nbformat_minor": 2
}
